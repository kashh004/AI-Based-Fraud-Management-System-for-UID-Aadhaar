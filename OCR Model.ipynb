{
 "cells": [
  {
   "cell_type": "code",
   "execution_count": 3,
   "id": "1837fcfd",
   "metadata": {},
   "outputs": [],
   "source": [
    "from ultralytics import YOLO\n",
    "import easyocr\n",
    "import cv2"
   ]
  },
  {
   "cell_type": "code",
   "execution_count": 4,
   "id": "564eff87",
   "metadata": {},
   "outputs": [],
   "source": [
    "# Load the trained YOLO model\n",
    "model = YOLO(\"/System/Volumes/Data/Users/akashngowda/runs/detect/train19/weights/best.pt\")"
   ]
  },
  {
   "cell_type": "code",
   "execution_count": 5,
   "id": "0f5d5d3e",
   "metadata": {},
   "outputs": [
    {
     "name": "stderr",
     "output_type": "stream",
     "text": [
      "Downloading detection model, please wait. This may take several minutes depending upon your network connection.\n"
     ]
    },
    {
     "name": "stdout",
     "output_type": "stream",
     "text": [
      "Progress: |██████████████████████████████████████████████████| 100.0% Complete"
     ]
    },
    {
     "name": "stderr",
     "output_type": "stream",
     "text": [
      "Downloading recognition model, please wait. This may take several minutes depending upon your network connection.\n"
     ]
    },
    {
     "name": "stdout",
     "output_type": "stream",
     "text": [
      "Progress: |██████████████████████████████████████████████████| 100.0% Complete"
     ]
    }
   ],
   "source": [
    "# Load EasyOCR Reader\n",
    "reader = easyocr.Reader(['en'])  # Initialize EasyOCR with English language"
   ]
  },
  {
   "cell_type": "code",
   "execution_count": 17,
   "id": "b2289aeb",
   "metadata": {},
   "outputs": [
    {
     "name": "stdout",
     "output_type": "stream",
     "text": [
      "\n",
      "image 1/1 /Users/akashngowda/Desktop/internship/infosys/dataset/images/train/200.jpg: 640x544 1 name, 2 uids, 2 addresss, 78.6ms\n",
      "Speed: 3.3ms preprocess, 78.6ms inference, 0.4ms postprocess per image at shape (1, 3, 640, 544)\n"
     ]
    }
   ],
   "source": [
    "# Predict with YOLO\n",
    "image_path = \"/Users/akashngowda/Desktop/internship/infosys/dataset/images/train/200.jpg\"  # replace with your image path\n",
    "results = model(image_path)  # Detect fields using YOLO"
   ]
  },
  {
   "cell_type": "code",
   "execution_count": 18,
   "id": "d8c095c2",
   "metadata": {},
   "outputs": [],
   "source": [
    "# Load the original image\n",
    "image = cv2.imread(image_path)\n",
    "\n",
    "# Dictionary to store extracted fields\n",
    "extracted_data = {}"
   ]
  },
  {
   "cell_type": "code",
   "execution_count": 19,
   "id": "e52d41f4",
   "metadata": {},
   "outputs": [],
   "source": [
    "# Iterate through detections\n",
    "for result in results[0].boxes.data.tolist():  # results[0].boxes.data contains bounding box details\n",
    "    x1, y1, x2, y2, confidence, class_id = map(int, result[:6])\n",
    "    field_class = model.names[class_id]  # Get class name (e.g., 'Name', 'UID', 'Address')\n",
    "\n",
    "    # Crop the detected region\n",
    "    cropped_roi = image[y1:y2, x1:x2]\n",
    "\n",
    "    # Convert cropped ROI to grayscale for OCR\n",
    "    gray_roi = cv2.cvtColor(cropped_roi, cv2.COLOR_BGR2GRAY)\n",
    "\n",
    "    # Use EasyOCR to extract text\n",
    "    text = reader.readtext(gray_roi, detail=0)  # detail=0 returns only the text\n",
    "\n",
    "    # Save the text to the extracted_data dictionary\n",
    "    extracted_data[field_class] = ' '.join(text)  # Combine detected text if multiple lines"
   ]
  },
  {
   "cell_type": "code",
   "execution_count": 20,
   "id": "32829a4e",
   "metadata": {},
   "outputs": [
    {
     "name": "stdout",
     "output_type": "stream",
     "text": [
      "Extracted Data: {'address': 'CIO Virendra Singh S/o Shri Karan Singh 11/97 New Housing Board Jhunjhunu Near Reserve Police Line Jhunjhunun Jhunjhunu Jhunjhunun Rajasthan 333001', 'uid': '3486 6473 8861', 'name': 'Virendra Singh'}\n"
     ]
    }
   ],
   "source": [
    "# Print the extracted fields\n",
    "print(\"Extracted Data:\", extracted_data)"
   ]
  },
  {
   "cell_type": "code",
   "execution_count": null,
   "id": "1227418a",
   "metadata": {},
   "outputs": [],
   "source": []
  }
 ],
 "metadata": {
  "kernelspec": {
   "display_name": "Python 3 (ipykernel)",
   "language": "python",
   "name": "python3"
  },
  "language_info": {
   "codemirror_mode": {
    "name": "ipython",
    "version": 3
   },
   "file_extension": ".py",
   "mimetype": "text/x-python",
   "name": "python",
   "nbconvert_exporter": "python",
   "pygments_lexer": "ipython3",
   "version": "3.11.7"
  }
 },
 "nbformat": 4,
 "nbformat_minor": 5
}
